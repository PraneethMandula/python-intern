{
  "nbformat": 4,
  "nbformat_minor": 0,
  "metadata": {
    "colab": {
      "provenance": []
    },
    "kernelspec": {
      "name": "python3",
      "display_name": "Python 3"
    },
    "language_info": {
      "name": "python"
    }
  },
  "cells": [
    {
      "cell_type": "code",
      "source": [
        "pip install yfinance"
      ],
      "metadata": {
        "colab": {
          "base_uri": "https://localhost:8080/"
        },
        "id": "7t1C5q0drMXS",
        "outputId": "76742b27-2b90-4766-ebd5-11b9cc21258f"
      },
      "execution_count": null,
      "outputs": [
        {
          "output_type": "stream",
          "name": "stdout",
          "text": [
            "Requirement already satisfied: yfinance in /usr/local/lib/python3.11/dist-packages (0.2.61)\n",
            "Requirement already satisfied: pandas>=1.3.0 in /usr/local/lib/python3.11/dist-packages (from yfinance) (2.2.2)\n",
            "Requirement already satisfied: numpy>=1.16.5 in /usr/local/lib/python3.11/dist-packages (from yfinance) (2.0.2)\n",
            "Requirement already satisfied: requests>=2.31 in /usr/local/lib/python3.11/dist-packages (from yfinance) (2.32.3)\n",
            "Requirement already satisfied: multitasking>=0.0.7 in /usr/local/lib/python3.11/dist-packages (from yfinance) (0.0.11)\n",
            "Requirement already satisfied: platformdirs>=2.0.0 in /usr/local/lib/python3.11/dist-packages (from yfinance) (4.3.8)\n",
            "Requirement already satisfied: pytz>=2022.5 in /usr/local/lib/python3.11/dist-packages (from yfinance) (2025.2)\n",
            "Requirement already satisfied: frozendict>=2.3.4 in /usr/local/lib/python3.11/dist-packages (from yfinance) (2.4.6)\n",
            "Requirement already satisfied: peewee>=3.16.2 in /usr/local/lib/python3.11/dist-packages (from yfinance) (3.18.1)\n",
            "Requirement already satisfied: beautifulsoup4>=4.11.1 in /usr/local/lib/python3.11/dist-packages (from yfinance) (4.13.4)\n",
            "Requirement already satisfied: curl_cffi>=0.7 in /usr/local/lib/python3.11/dist-packages (from yfinance) (0.11.1)\n",
            "Requirement already satisfied: protobuf>=3.19.0 in /usr/local/lib/python3.11/dist-packages (from yfinance) (5.29.4)\n",
            "Requirement already satisfied: websockets>=13.0 in /usr/local/lib/python3.11/dist-packages (from yfinance) (15.0.1)\n",
            "Requirement already satisfied: soupsieve>1.2 in /usr/local/lib/python3.11/dist-packages (from beautifulsoup4>=4.11.1->yfinance) (2.7)\n",
            "Requirement already satisfied: typing-extensions>=4.0.0 in /usr/local/lib/python3.11/dist-packages (from beautifulsoup4>=4.11.1->yfinance) (4.13.2)\n",
            "Requirement already satisfied: cffi>=1.12.0 in /usr/local/lib/python3.11/dist-packages (from curl_cffi>=0.7->yfinance) (1.17.1)\n",
            "Requirement already satisfied: certifi>=2024.2.2 in /usr/local/lib/python3.11/dist-packages (from curl_cffi>=0.7->yfinance) (2025.4.26)\n",
            "Requirement already satisfied: python-dateutil>=2.8.2 in /usr/local/lib/python3.11/dist-packages (from pandas>=1.3.0->yfinance) (2.9.0.post0)\n",
            "Requirement already satisfied: tzdata>=2022.7 in /usr/local/lib/python3.11/dist-packages (from pandas>=1.3.0->yfinance) (2025.2)\n",
            "Requirement already satisfied: charset-normalizer<4,>=2 in /usr/local/lib/python3.11/dist-packages (from requests>=2.31->yfinance) (3.4.2)\n",
            "Requirement already satisfied: idna<4,>=2.5 in /usr/local/lib/python3.11/dist-packages (from requests>=2.31->yfinance) (3.10)\n",
            "Requirement already satisfied: urllib3<3,>=1.21.1 in /usr/local/lib/python3.11/dist-packages (from requests>=2.31->yfinance) (2.4.0)\n",
            "Requirement already satisfied: pycparser in /usr/local/lib/python3.11/dist-packages (from cffi>=1.12.0->curl_cffi>=0.7->yfinance) (2.22)\n",
            "Requirement already satisfied: six>=1.5 in /usr/local/lib/python3.11/dist-packages (from python-dateutil>=2.8.2->pandas>=1.3.0->yfinance) (1.17.0)\n"
          ]
        }
      ]
    },
    {
      "cell_type": "code",
      "execution_count": null,
      "metadata": {
        "colab": {
          "base_uri": "https://localhost:8080/"
        },
        "id": "TCS97sgAqqPC",
        "outputId": "6f3844e8-fee3-4374-b2ba-612bfbb7b81b"
      },
      "outputs": [
        {
          "output_type": "stream",
          "name": "stdout",
          "text": [
            "\n",
            "Your Stock Portfolio:\n",
            "------------------------------------------------------------\n",
            "Symbol  Shares    Price($)    Value($)    P/L($)    \n",
            "------------------------------------------------------------\n",
            "AAPL    10        200.42      2004.20     554.20    \n",
            "GOOGL   5         172.36      861.80      -12638.20 \n",
            "MSFT    8         457.36      3658.88     1418.88   \n",
            "TSLA    2         356.90      713.80      -686.20   \n",
            "------------------------------------------------------------\n",
            "Total Portfolio Value: $7238.68\n"
          ]
        }
      ],
      "source": [
        "import yfinance as yf\n",
        "\n",
        "# Define your portfolio: symbol, shares, and average purchase price (optional)\n",
        "portfolio = {\n",
        "    'AAPL': {'shares': 10, 'buy_price': 145.0},\n",
        "    'GOOGL': {'shares': 5, 'buy_price': 2700.0},\n",
        "    'MSFT': {'shares': 8, 'buy_price': 280.0},\n",
        "    'TSLA': {'shares': 2, 'buy_price': 700.0}\n",
        "}\n",
        "\n",
        "def get_stock_data(symbol):\n",
        "    stock = yf.Ticker(symbol)\n",
        "    data = stock.history(period=\"1d\")\n",
        "    if not data.empty:\n",
        "        return data['Close'].iloc[-1]\n",
        "    else:\n",
        "        return None\n",
        "\n",
        "def calculate_portfolio_value(portfolio):\n",
        "    total_value = 0\n",
        "    print(\"\\nYour Stock Portfolio:\")\n",
        "    print(\"-\" * 60)\n",
        "    print(f\"{'Symbol':<8}{'Shares':<10}{'Price($)':<12}{'Value($)':<12}{'P/L($)':<10}\")\n",
        "    print(\"-\" * 60)\n",
        "\n",
        "    for symbol, info in portfolio.items():\n",
        "        current_price = get_stock_data(symbol)\n",
        "        if current_price:\n",
        "            shares = info['shares']\n",
        "            value = shares * current_price\n",
        "            buy_price = info.get('buy_price', 0)\n",
        "            pl = (current_price - buy_price) * shares if buy_price else 0\n",
        "            total_value += value\n",
        "            print(f\"{symbol:<8}{shares:<10}{current_price:<12.2f}{value:<12.2f}{pl:<10.2f}\")\n",
        "        else:\n",
        "            print(f\"{symbol:<8}Data not available.\")\n",
        "\n",
        "    print(\"-\" * 60)\n",
        "    print(f\"Total Portfolio Value: ${total_value:.2f}\")\n",
        "\n",
        "if __name__ == \"__main__\":\n",
        "    calculate_portfolio_value(portfolio)\n"
      ]
    }
  ]
}