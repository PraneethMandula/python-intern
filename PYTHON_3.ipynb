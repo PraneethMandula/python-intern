{
  "nbformat": 4,
  "nbformat_minor": 0,
  "metadata": {
    "colab": {
      "provenance": []
    },
    "kernelspec": {
      "name": "python3",
      "display_name": "Python 3"
    },
    "language_info": {
      "name": "python"
    }
  },
  "cells": [
    {
      "cell_type": "code",
      "execution_count": null,
      "metadata": {
        "colab": {
          "base_uri": "https://localhost:8080/"
        },
        "id": "rJMtT621r6b9",
        "outputId": "945c1f7e-0bcc-475f-dadd-75182332fcff"
      },
      "outputs": [
        {
          "output_type": "stream",
          "name": "stdout",
          "text": [
            "Chatbot: Hello! I'm a simple chatbot. Type 'exit' to end the conversation.\n",
            "You: exit\n",
            "Chatbot: Goodbye! 👋\n"
          ]
        }
      ],
      "source": [
        "def chatbot():\n",
        "    print(\"Chatbot: Hello! I'm a simple chatbot. Type 'exit' to end the conversation.\")\n",
        "\n",
        "    while True:\n",
        "        user_input = input(\"You: \").lower()\n",
        "\n",
        "        if user_input in ['exit', 'quit', 'bye']:\n",
        "            print(\"Chatbot: Goodbye! 👋\")\n",
        "            break\n",
        "\n",
        "        elif \"hello\" in user_input or \"hi\" in user_input:\n",
        "            print(\"Chatbot: Hello there! How can I help you?\")\n",
        "\n",
        "        elif \"how are you\" in user_input:\n",
        "            print(\"Chatbot: I'm just a bunch of code, but I'm functioning well! How about you?\")\n",
        "\n",
        "        elif \"your name\" in user_input:\n",
        "            print(\"Chatbot: I'm ChatPy, your friendly Python chatbot.\")\n",
        "\n",
        "        elif \"help\" in user_input:\n",
        "            print(\"Chatbot: I can respond to greetings and simple questions. Try asking me 'how are you' or say 'hello'!\")\n",
        "\n",
        "        else:\n",
        "            print(\"Chatbot: Hmm... I don't understand that yet. Try saying 'hello' or 'help'.\")\n",
        "\n",
        "if __name__ == \"__main__\":\n",
        "    chatbot()\n"
      ]
    }
  ]
}